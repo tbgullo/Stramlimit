{
 "cells": [
  {
   "cell_type": "code",
   "execution_count": null,
   "id": "21428be9-a483-400f-aed5-3a9c99881f40",
   "metadata": {},
   "outputs": [],
   "source": [
    "#! pip install dash plotly\n",
    "#!pip install streamlit\n",
    "#! pip install dash plotly pandas"
   ]
  },
  {
   "cell_type": "code",
   "execution_count": 1,
   "id": "56a18e1e-0162-48ce-98d6-bddc0635dca8",
   "metadata": {},
   "outputs": [
    {
     "data": {
      "text/html": [
       "\n",
       "        <iframe\n",
       "            width=\"100%\"\n",
       "            height=\"650\"\n",
       "            src=\"http://127.0.0.1:8050/\"\n",
       "            frameborder=\"0\"\n",
       "            allowfullscreen\n",
       "            \n",
       "        ></iframe>\n",
       "        "
      ],
      "text/plain": [
       "<IPython.lib.display.IFrame at 0x71d4b6552050>"
      ]
     },
     "metadata": {},
     "output_type": "display_data"
    }
   ],
   "source": [
    "import dash\n",
    "from dash import dcc, html\n",
    "import plotly.express as px\n",
    "import pandas as pd\n",
    "\n",
    "# Exemplo de dataset\n",
    "df = pd.DataFrame({\n",
    "    \"Country\": [\"Brazil\", \"Argentina\", \"Chile\", \"Uruguay\"],\n",
    "    \"Energy Consumption\": [100, 80, 70, 90],\n",
    "    \"Renewable\": [50, 40, 60, 70]\n",
    "})\n",
    "\n",
    "# Criar um gráfico interativo com Plotly\n",
    "fig = px.bar(df, x=\"Country\", y=\"Energy Consumption\", color=\"Renewable\", barmode=\"group\")\n",
    "\n",
    "# Inicializar o app do Dash\n",
    "app = dash.Dash(__name__)\n",
    "\n",
    "app.layout = html.Div(children=[\n",
    "    html.H1(children='Dashboard de Consumo de Energia'),\n",
    "    dcc.Graph(id='energy-graph', figure=fig)\n",
    "])\n",
    "\n",
    "if __name__ == '__main__':\n",
    "    app.run_server(debug=True)\n"
   ]
  },
  {
   "cell_type": "code",
   "execution_count": 2,
   "id": "df45b9d2-5a8f-4f33-bb79-98a4622db749",
   "metadata": {},
   "outputs": [
    {
     "data": {
      "text/html": [
       "\n",
       "        <iframe\n",
       "            width=\"100%\"\n",
       "            height=\"650\"\n",
       "            src=\"http://127.0.0.1:8050/\"\n",
       "            frameborder=\"0\"\n",
       "            allowfullscreen\n",
       "            \n",
       "        ></iframe>\n",
       "        "
      ],
      "text/plain": [
       "<IPython.lib.display.IFrame at 0x71d4ff4594d0>"
      ]
     },
     "metadata": {},
     "output_type": "display_data"
    }
   ],
   "source": [
    "import dash\n",
    "from dash import dcc, html\n",
    "from dash.dependencies import Input, Output\n",
    "import pandas as pd\n",
    "import numpy as np\n",
    "import plotly.express as px\n",
    "from datetime import datetime, timedelta\n",
    "\n",
    "# Função para criar um dataset fictício de vendas\n",
    "def gerar_dataset_vendas():\n",
    "    # Gerar datas de vendas (últimos 6 meses)\n",
    "    data_inicial = datetime.today() - timedelta(days=180)\n",
    "    datas = [data_inicial + timedelta(days=x) for x in range(180)]\n",
    "    \n",
    "    # Produtos e localizações fictícias\n",
    "    produtos = ['Produto A', 'Produto B', 'Produto C']\n",
    "    localizacoes = ['Loja 1', 'Loja 2', 'Loja 3']\n",
    "    \n",
    "    # Gerar dados aleatórios para vendas\n",
    "    data = {\n",
    "        'Data': np.random.choice(datas, size=500),\n",
    "        'Produto': np.random.choice(produtos, size=500),\n",
    "        'Quantidade': np.random.randint(1, 10, size=500),\n",
    "        'Preco_Unitario': np.random.uniform(10, 50, size=500),\n",
    "        'Localizacao': np.random.choice(localizacoes, size=500)\n",
    "    }\n",
    "    \n",
    "    df_vendas = pd.DataFrame(data)\n",
    "    df_vendas['Total_Venda'] = df_vendas['Quantidade'] * df_vendas['Preco_Unitario']  # Calcular o total da venda\n",
    "    return df_vendas\n",
    "\n",
    "# Gerar o dataset\n",
    "df_vendas = gerar_dataset_vendas()\n",
    "\n",
    "# Inicializar a aplicação Dash\n",
    "app = dash.Dash(__name__)\n",
    "\n",
    "# Layout do Dashboard\n",
    "app.layout = html.Div([\n",
    "    html.H1(\"Dashboard de Vendas: Evolução ao Longo do Tempo\"),\n",
    "    \n",
    "    # Filtros interativos\n",
    "    html.Div([\n",
    "        html.Label('Selecione o Produto:'),\n",
    "        dcc.Dropdown(\n",
    "            id='produto-selecionado',\n",
    "            options=[{'label': produto, 'value': produto} for produto in df_vendas['Produto'].unique()],\n",
    "            value='Produto A'  # Valor padrão\n",
    "        ),\n",
    "        \n",
    "        html.Label('Selecione o Período:'),\n",
    "        dcc.DatePickerRange(\n",
    "            id='data-selecionada',\n",
    "            min_date_allowed=df_vendas['Data'].min(),\n",
    "            max_date_allowed=df_vendas['Data'].max(),\n",
    "            start_date=df_vendas['Data'].min(),\n",
    "            end_date=df_vendas['Data'].max()\n",
    "        ),\n",
    "    ], style={'padding': '20px'}),\n",
    "    \n",
    "    # Gráfico de evolução de vendas\n",
    "    dcc.Graph(id='grafico-vendas'),\n",
    "])\n",
    "\n",
    "# Callback para atualizar o gráfico com base nos filtros\n",
    "@app.callback(\n",
    "    Output('grafico-vendas', 'figure'),\n",
    "    [Input('produto-selecionado', 'value'),\n",
    "     Input('data-selecionada', 'start_date'),\n",
    "     Input('data-selecionada', 'end_date')]\n",
    ")\n",
    "def atualizar_grafico(produto, start_date, end_date):\n",
    "    # Converter as datas de string para datetime\n",
    "    start_date = pd.to_datetime(start_date)\n",
    "    end_date = pd.to_datetime(end_date)\n",
    "    \n",
    "    # Filtrar o dataframe com base no produto e datas selecionadas\n",
    "    df_filtrado = df_vendas[(df_vendas['Produto'] == produto) & \n",
    "                            (df_vendas['Data'] >= start_date) & \n",
    "                            (df_vendas['Data'] <= end_date)]\n",
    "    \n",
    "    # Agrupar por data e somar o total de vendas\n",
    "    df_evolucao = df_filtrado.groupby('Data')['Total_Venda'].sum().reset_index()\n",
    "    \n",
    "    # Criar o gráfico de linha\n",
    "    fig = px.line(df_evolucao, x='Data', y='Total_Venda', title=f'Evolução de Vendas: {produto}')\n",
    "    \n",
    "    return fig\n",
    "\n",
    "# Rodar a aplicação\n",
    "if __name__ == '__main__':\n",
    "    app.run_server(debug=True)\n",
    "\n"
   ]
  },
  {
   "cell_type": "code",
   "execution_count": null,
   "id": "310af068-9054-435a-ab78-a97c71f5fec2",
   "metadata": {},
   "outputs": [],
   "source": [
    "from sklearn.datasets import load_iris\n",
    "from sklearn.ensemble import RandomForestClassifier\n",
    "import joblib\n",
    "\n",
    "# Carregar o dataset Iris\n",
    "iris = load_iris()\n",
    "X, y = iris.data, iris.target\n",
    "\n",
    "# Treinar um modelo RandomForest\n",
    "model = RandomForestClassifier(n_estimators=100)\n",
    "model.fit(X, y)\n",
    "\n",
    "# Salvar o modelo\n",
    "joblib.dump(model, \"modelo_iris_rf.pkl\")"
   ]
  },
  {
   "cell_type": "code",
   "execution_count": null,
   "id": "54aec268-6124-40ab-b049-7848b53a4f61",
   "metadata": {},
   "outputs": [],
   "source": [
    "! pip install streamlit scikit-learn pandas"
   ]
  },
  {
   "cell_type": "code",
   "execution_count": null,
   "id": "0a33076b-f7b0-44c7-8c9d-4631a6b851a5",
   "metadata": {},
   "outputs": [],
   "source": [
    "import pandas as pd\n",
    "import numpy as np\n",
    "\n",
    "# Definindo o conjunto de dados Iris fictício para upload\n",
    "data = {\n",
    "    'sepal length (cm)': np.random.uniform(4.3, 7.9, 200),\n",
    "    'sepal width (cm)': np.random.uniform(2.0, 4.4, 200),\n",
    "    'petal length (cm)': np.random.uniform(1.0, 6.9, 200),\n",
    "    'petal width (cm)': np.random.uniform(0.1, 2.5, 200)\n",
    "}\n",
    "\n",
    "# Criando o DataFrame\n",
    "df_iris = pd.DataFrame(data)\n",
    "\n",
    "# Salvando o DataFrame em um arquivo CSV\n",
    "df_iris.to_csv(\"iris_classification_data.csv\", index=False)"
   ]
  },
  {
   "cell_type": "code",
   "execution_count": null,
   "id": "05dbe7df-cc29-435c-9f54-1efb2c9534fe",
   "metadata": {},
   "outputs": [],
   "source": []
  }
 ],
 "metadata": {
  "kernelspec": {
   "display_name": "Python 3 (ipykernel)",
   "language": "python",
   "name": "python3"
  },
  "language_info": {
   "codemirror_mode": {
    "name": "ipython",
    "version": 3
   },
   "file_extension": ".py",
   "mimetype": "text/x-python",
   "name": "python",
   "nbconvert_exporter": "python",
   "pygments_lexer": "ipython3",
   "version": "3.11.9"
  }
 },
 "nbformat": 4,
 "nbformat_minor": 5
}
